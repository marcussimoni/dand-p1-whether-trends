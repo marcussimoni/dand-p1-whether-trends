{
 "cells": [
  {
   "cell_type": "markdown",
   "metadata": {
    "colab_type": "text",
    "id": "J7JtdrphZlJ4"
   },
   "source": [
    "## Exploring Weather Trends ##\n",
    "\n",
    "#### Summary\n",
    "\n",
    "In this project, it will be analyzed the weather trends in order to check the similarities and changes in the weather between the city of Campinas (Brazil) and the average weather in the world on the period from 1832 and 2013. The two dataframes used in this study were retrieved from Udacity's database and exported as CSV files for analysis in this notebook."
   ]
  },
  {
   "cell_type": "markdown",
   "metadata": {
    "colab_type": "text",
    "id": "1T4lzXl5m5G4"
   },
   "source": [
    "#### Tools\n",
    "\n",
    "To analyze weather trends it will be used the following tools: pandas to data analyzes, matplotlib to plot the charts, sql to retrieve data from the database. \n",
    "\n",
    "#### Sql comands\n",
    "The following commands were used to get the data from the database:\n",
    "\n",
    "*   select from global_data;\n",
    "*   select from city_data where city = 'Campinas';\n",
    "\n"
   ]
  },
  {
   "cell_type": "markdown",
   "metadata": {
    "colab_type": "text",
    "id": "DFLgyptEuppd"
   },
   "source": [
    "### Import libraries"
   ]
  },
  {
   "cell_type": "code",
   "execution_count": 0,
   "metadata": {
    "colab": {
     "base_uri": "https://localhost:8080/",
     "height": 34
    },
    "colab_type": "code",
    "id": "bHTAmmWFaT59",
    "outputId": "fbb4f1ff-5aba-4c5a-ae57-05e9cccfec9f"
   },
   "outputs": [
    {
     "name": "stdout",
     "output_type": "stream",
     "text": [
      "imports completed\n"
     ]
    }
   ],
   "source": [
    "import pandas as pd\n",
    "import matplotlib.pyplot as plt\n",
    "from matplotlib.pyplot import figure\n",
    "print('imports completed')"
   ]
  },
  {
   "cell_type": "markdown",
   "metadata": {
    "colab_type": "text",
    "id": "Jv9ej3UNutOF"
   },
   "source": [
    "#### Load dataframes\n"
   ]
  },
  {
   "cell_type": "code",
   "execution_count": 0,
   "metadata": {
    "colab": {
     "base_uri": "https://localhost:8080/",
     "height": 34
    },
    "colab_type": "code",
    "id": "ebYVNSfwZc4n",
    "outputId": "3bdd58c5-75df-4228-f699-6b487fb0576f"
   },
   "outputs": [
    {
     "name": "stdout",
     "output_type": "stream",
     "text": [
      "global dataset and city dataset created\n"
     ]
    }
   ],
   "source": [
    "city_data_url = 'https://raw.githubusercontent.com/marcussimoni/dand-p1-whether-trends/master/city_data.csv'\n",
    "global_data_url = 'https://raw.githubusercontent.com/marcussimoni/dand-p1-whether-trends/master/global_data.csv'\n",
    "\n",
    "city_data = pd.read_csv(city_data_url, sep=',')\n",
    "global_data = pd.read_csv(global_data_url, sep=',')\n",
    "\n",
    "print('global dataframe and city dataframe created')"
   ]
  },
  {
   "cell_type": "markdown",
   "metadata": {
    "colab_type": "text",
    "id": "ScJRNxmul9te"
   },
   "source": [
    "#### Preparing data to analyze\n",
    "\n",
    "\n",
    "A quick check shows some null values in the city_data dataframe and we will need to correct them before we start the study. Altogether the dataframe have 182 values in columns year, city and country but only 175 in column avg_temp. We'll fill the null values with the mean of avg_temp columns of the city_data dataframe. After the update, the total from avg_temp column will match with the other columns of the dataframe."
   ]
  },
  {
   "cell_type": "code",
   "execution_count": 0,
   "metadata": {
    "colab": {
     "base_uri": "https://localhost:8080/",
     "height": 168
    },
    "colab_type": "code",
    "id": "UUXQfldwbcgB",
    "outputId": "5f584754-59ad-4078-eaa6-980788508d73"
   },
   "outputs": [
    {
     "name": "stdout",
     "output_type": "stream",
     "text": [
      "<class 'pandas.core.frame.DataFrame'>\n",
      "RangeIndex: 182 entries, 0 to 181\n",
      "Data columns (total 4 columns):\n",
      "year        182 non-null int64\n",
      "city        182 non-null object\n",
      "country     182 non-null object\n",
      "avg_temp    175 non-null float64\n",
      "dtypes: float64(1), int64(1), object(2)\n",
      "memory usage: 5.8+ KB\n"
     ]
    }
   ],
   "source": [
    "city_data.info();"
   ]
  },
  {
   "cell_type": "code",
   "execution_count": 0,
   "metadata": {
    "colab": {
     "base_uri": "https://localhost:8080/",
     "height": 254
    },
    "colab_type": "code",
    "id": "ddbTG7ZAbWdZ",
    "outputId": "8df35ff7-a17c-4e8d-c3b5-109cd29a5df1"
   },
   "outputs": [
    {
     "data": {
      "text/html": [
       "<div>\n",
       "<style scoped>\n",
       "    .dataframe tbody tr th:only-of-type {\n",
       "        vertical-align: middle;\n",
       "    }\n",
       "\n",
       "    .dataframe tbody tr th {\n",
       "        vertical-align: top;\n",
       "    }\n",
       "\n",
       "    .dataframe thead th {\n",
       "        text-align: right;\n",
       "    }\n",
       "</style>\n",
       "<table border=\"1\" class=\"dataframe\">\n",
       "  <thead>\n",
       "    <tr style=\"text-align: right;\">\n",
       "      <th></th>\n",
       "      <th>year</th>\n",
       "      <th>city</th>\n",
       "      <th>country</th>\n",
       "      <th>avg_temp</th>\n",
       "    </tr>\n",
       "  </thead>\n",
       "  <tbody>\n",
       "    <tr>\n",
       "      <th>12</th>\n",
       "      <td>1844</td>\n",
       "      <td>Campinas</td>\n",
       "      <td>Brazil</td>\n",
       "      <td>NaN</td>\n",
       "    </tr>\n",
       "    <tr>\n",
       "      <th>13</th>\n",
       "      <td>1845</td>\n",
       "      <td>Campinas</td>\n",
       "      <td>Brazil</td>\n",
       "      <td>NaN</td>\n",
       "    </tr>\n",
       "    <tr>\n",
       "      <th>14</th>\n",
       "      <td>1846</td>\n",
       "      <td>Campinas</td>\n",
       "      <td>Brazil</td>\n",
       "      <td>NaN</td>\n",
       "    </tr>\n",
       "    <tr>\n",
       "      <th>15</th>\n",
       "      <td>1847</td>\n",
       "      <td>Campinas</td>\n",
       "      <td>Brazil</td>\n",
       "      <td>NaN</td>\n",
       "    </tr>\n",
       "    <tr>\n",
       "      <th>16</th>\n",
       "      <td>1848</td>\n",
       "      <td>Campinas</td>\n",
       "      <td>Brazil</td>\n",
       "      <td>NaN</td>\n",
       "    </tr>\n",
       "    <tr>\n",
       "      <th>17</th>\n",
       "      <td>1849</td>\n",
       "      <td>Campinas</td>\n",
       "      <td>Brazil</td>\n",
       "      <td>NaN</td>\n",
       "    </tr>\n",
       "    <tr>\n",
       "      <th>18</th>\n",
       "      <td>1850</td>\n",
       "      <td>Campinas</td>\n",
       "      <td>Brazil</td>\n",
       "      <td>NaN</td>\n",
       "    </tr>\n",
       "  </tbody>\n",
       "</table>\n",
       "</div>"
      ],
      "text/plain": [
       "    year      city country  avg_temp\n",
       "12  1844  Campinas  Brazil       NaN\n",
       "13  1845  Campinas  Brazil       NaN\n",
       "14  1846  Campinas  Brazil       NaN\n",
       "15  1847  Campinas  Brazil       NaN\n",
       "16  1848  Campinas  Brazil       NaN\n",
       "17  1849  Campinas  Brazil       NaN\n",
       "18  1850  Campinas  Brazil       NaN"
      ]
     },
     "execution_count": 94,
     "metadata": {
      "tags": []
     },
     "output_type": "execute_result"
    }
   ],
   "source": [
    "city_data[city_data.isnull().any(axis=1)]"
   ]
  },
  {
   "cell_type": "code",
   "execution_count": 0,
   "metadata": {
    "colab": {},
    "colab_type": "code",
    "id": "evDByVmtdaok"
   },
   "outputs": [],
   "source": [
    "city_data['avg_temp'].fillna(city_data['avg_temp'].mean(), inplace=True)"
   ]
  },
  {
   "cell_type": "markdown",
   "metadata": {
    "colab_type": "text",
    "id": "sKoUdROIbiKR"
   },
   "source": [
    "city_data dataframe after replace null values"
   ]
  },
  {
   "cell_type": "code",
   "execution_count": 0,
   "metadata": {
    "colab": {
     "base_uri": "https://localhost:8080/",
     "height": 168
    },
    "colab_type": "code",
    "id": "vsU55vZlqV74",
    "outputId": "e1032c3f-1502-47f0-ced4-dc57be4894f6"
   },
   "outputs": [
    {
     "name": "stdout",
     "output_type": "stream",
     "text": [
      "<class 'pandas.core.frame.DataFrame'>\n",
      "RangeIndex: 182 entries, 0 to 181\n",
      "Data columns (total 4 columns):\n",
      "year        182 non-null int64\n",
      "city        182 non-null object\n",
      "country     182 non-null object\n",
      "avg_temp    182 non-null float64\n",
      "dtypes: float64(1), int64(1), object(2)\n",
      "memory usage: 5.8+ KB\n"
     ]
    }
   ],
   "source": [
    "city_data.info();"
   ]
  },
  {
   "cell_type": "markdown",
   "metadata": {
    "colab_type": "text",
    "id": "7pZUIDUNvyMz"
   },
   "source": [
    "We check the global_data too to confirm the existence of inconsistencies. Apparently, all values are correct."
   ]
  },
  {
   "cell_type": "code",
   "execution_count": 0,
   "metadata": {
    "colab": {
     "base_uri": "https://localhost:8080/",
     "height": 134
    },
    "colab_type": "code",
    "id": "DGN_CgXebhsR",
    "outputId": "3dc7437d-aac4-4db6-b9f8-8ef632a91d29"
   },
   "outputs": [
    {
     "name": "stdout",
     "output_type": "stream",
     "text": [
      "<class 'pandas.core.frame.DataFrame'>\n",
      "RangeIndex: 266 entries, 0 to 265\n",
      "Data columns (total 2 columns):\n",
      "year        266 non-null int64\n",
      "avg_temp    266 non-null float64\n",
      "dtypes: float64(1), int64(1)\n",
      "memory usage: 4.2 KB\n"
     ]
    }
   ],
   "source": [
    "global_data.info();"
   ]
  },
  {
   "cell_type": "markdown",
   "metadata": {
    "colab_type": "text",
    "id": "joPEMMuvDKuC"
   },
   "source": [
    "The number of lines in the two dataframes was different: the global_data dataframe has 266 rows and the city_data dataframe has 182 rows. It was necessary to equalize the total of rows in the two dataframes before display the line chart. To do that was necessary to use the same range of years on the two dataframes: between 1832 and 2013. That is the year range present on the city_data dataframe."
   ]
  },
  {
   "cell_type": "code",
   "execution_count": 0,
   "metadata": {
    "colab": {
     "base_uri": "https://localhost:8080/",
     "height": 284
    },
    "colab_type": "code",
    "id": "vUY_hmWJJkrw",
    "outputId": "aba58f6d-91c1-4fd9-8be3-193ed684b028"
   },
   "outputs": [
    {
     "data": {
      "text/html": [
       "<div>\n",
       "<style scoped>\n",
       "    .dataframe tbody tr th:only-of-type {\n",
       "        vertical-align: middle;\n",
       "    }\n",
       "\n",
       "    .dataframe tbody tr th {\n",
       "        vertical-align: top;\n",
       "    }\n",
       "\n",
       "    .dataframe thead th {\n",
       "        text-align: right;\n",
       "    }\n",
       "</style>\n",
       "<table border=\"1\" class=\"dataframe\">\n",
       "  <thead>\n",
       "    <tr style=\"text-align: right;\">\n",
       "      <th></th>\n",
       "      <th>year</th>\n",
       "      <th>avg_temp</th>\n",
       "    </tr>\n",
       "  </thead>\n",
       "  <tbody>\n",
       "    <tr>\n",
       "      <th>count</th>\n",
       "      <td>182.000000</td>\n",
       "      <td>182.000000</td>\n",
       "    </tr>\n",
       "    <tr>\n",
       "      <th>mean</th>\n",
       "      <td>1922.500000</td>\n",
       "      <td>19.700057</td>\n",
       "    </tr>\n",
       "    <tr>\n",
       "      <th>std</th>\n",
       "      <td>52.683014</td>\n",
       "      <td>0.582299</td>\n",
       "    </tr>\n",
       "    <tr>\n",
       "      <th>min</th>\n",
       "      <td>1832.000000</td>\n",
       "      <td>18.280000</td>\n",
       "    </tr>\n",
       "    <tr>\n",
       "      <th>25%</th>\n",
       "      <td>1877.250000</td>\n",
       "      <td>19.252500</td>\n",
       "    </tr>\n",
       "    <tr>\n",
       "      <th>50%</th>\n",
       "      <td>1922.500000</td>\n",
       "      <td>19.700057</td>\n",
       "    </tr>\n",
       "    <tr>\n",
       "      <th>75%</th>\n",
       "      <td>1967.750000</td>\n",
       "      <td>20.077500</td>\n",
       "    </tr>\n",
       "    <tr>\n",
       "      <th>max</th>\n",
       "      <td>2013.000000</td>\n",
       "      <td>21.300000</td>\n",
       "    </tr>\n",
       "  </tbody>\n",
       "</table>\n",
       "</div>"
      ],
      "text/plain": [
       "              year    avg_temp\n",
       "count   182.000000  182.000000\n",
       "mean   1922.500000   19.700057\n",
       "std      52.683014    0.582299\n",
       "min    1832.000000   18.280000\n",
       "25%    1877.250000   19.252500\n",
       "50%    1922.500000   19.700057\n",
       "75%    1967.750000   20.077500\n",
       "max    2013.000000   21.300000"
      ]
     },
     "execution_count": 97,
     "metadata": {
      "tags": []
     },
     "output_type": "execute_result"
    }
   ],
   "source": [
    "city_data.describe()"
   ]
  },
  {
   "cell_type": "code",
   "execution_count": 0,
   "metadata": {
    "colab": {
     "base_uri": "https://localhost:8080/",
     "height": 284
    },
    "colab_type": "code",
    "id": "4DDw36vG3ZzK",
    "outputId": "498abd04-3c75-49e1-d0a5-1362e9ebf2f5"
   },
   "outputs": [
    {
     "data": {
      "text/html": [
       "<div>\n",
       "<style scoped>\n",
       "    .dataframe tbody tr th:only-of-type {\n",
       "        vertical-align: middle;\n",
       "    }\n",
       "\n",
       "    .dataframe tbody tr th {\n",
       "        vertical-align: top;\n",
       "    }\n",
       "\n",
       "    .dataframe thead th {\n",
       "        text-align: right;\n",
       "    }\n",
       "</style>\n",
       "<table border=\"1\" class=\"dataframe\">\n",
       "  <thead>\n",
       "    <tr style=\"text-align: right;\">\n",
       "      <th></th>\n",
       "      <th>year</th>\n",
       "      <th>avg_temp</th>\n",
       "    </tr>\n",
       "  </thead>\n",
       "  <tbody>\n",
       "    <tr>\n",
       "      <th>count</th>\n",
       "      <td>266.000000</td>\n",
       "      <td>266.000000</td>\n",
       "    </tr>\n",
       "    <tr>\n",
       "      <th>mean</th>\n",
       "      <td>1882.500000</td>\n",
       "      <td>8.369474</td>\n",
       "    </tr>\n",
       "    <tr>\n",
       "      <th>std</th>\n",
       "      <td>76.931788</td>\n",
       "      <td>0.584747</td>\n",
       "    </tr>\n",
       "    <tr>\n",
       "      <th>min</th>\n",
       "      <td>1750.000000</td>\n",
       "      <td>5.780000</td>\n",
       "    </tr>\n",
       "    <tr>\n",
       "      <th>25%</th>\n",
       "      <td>1816.250000</td>\n",
       "      <td>8.082500</td>\n",
       "    </tr>\n",
       "    <tr>\n",
       "      <th>50%</th>\n",
       "      <td>1882.500000</td>\n",
       "      <td>8.375000</td>\n",
       "    </tr>\n",
       "    <tr>\n",
       "      <th>75%</th>\n",
       "      <td>1948.750000</td>\n",
       "      <td>8.707500</td>\n",
       "    </tr>\n",
       "    <tr>\n",
       "      <th>max</th>\n",
       "      <td>2015.000000</td>\n",
       "      <td>9.830000</td>\n",
       "    </tr>\n",
       "  </tbody>\n",
       "</table>\n",
       "</div>"
      ],
      "text/plain": [
       "              year    avg_temp\n",
       "count   266.000000  266.000000\n",
       "mean   1882.500000    8.369474\n",
       "std      76.931788    0.584747\n",
       "min    1750.000000    5.780000\n",
       "25%    1816.250000    8.082500\n",
       "50%    1882.500000    8.375000\n",
       "75%    1948.750000    8.707500\n",
       "max    2015.000000    9.830000"
      ]
     },
     "execution_count": 98,
     "metadata": {
      "tags": []
     },
     "output_type": "execute_result"
    }
   ],
   "source": [
    "global_data.describe()"
   ]
  },
  {
   "cell_type": "code",
   "execution_count": 0,
   "metadata": {
    "colab": {},
    "colab_type": "code",
    "id": "-RPrQQl6d4h8"
   },
   "outputs": [],
   "source": [
    "#filtering rows to match with city_data dataframe\n",
    "global_data = global_data.query('year >= 1832 and year <= 2013')"
   ]
  },
  {
   "cell_type": "markdown",
   "metadata": {
    "colab_type": "text",
    "id": "wVN_4a-_OEkc"
   },
   "source": [
    "The next step after preparing the data in the two dataframes is to calculate the moving average for the avg_temp column and to plot a line chart comparing the two calculated values. The moving averange will be calculated using the rolling method from pandas with the parameter window set to 10. The line chart will be plotted using matplotlib."
   ]
  },
  {
   "cell_type": "code",
   "execution_count": 0,
   "metadata": {
    "colab": {},
    "colab_type": "code",
    "id": "dO-4wn_XODSz"
   },
   "outputs": [],
   "source": [
    "#select year from city_data dataframe\n",
    "years = city_data['year'];\n",
    "\n",
    "moving_average = 10\n",
    "\n",
    "#calculating moving average with pandas\n",
    "city_weather = city_data['avg_temp'].rolling(window = moving_average).mean();\n",
    "global_weather = global_data['avg_temp'].rolling(window = moving_average).mean();"
   ]
  },
  {
   "cell_type": "code",
   "execution_count": 0,
   "metadata": {
    "colab": {
     "base_uri": "https://localhost:8080/",
     "height": 294
    },
    "colab_type": "code",
    "id": "W1Umoid0wFDI",
    "outputId": "69db9d8b-3c70-4c3d-b657-8471e90faca0"
   },
   "outputs": [
    {
     "data": {
      "image/png": "[encoded data removed]",
      "text/plain": [
       "<Figure size 1440x288 with 1 Axes>"
      ]
     },
     "metadata": {
      "tags": []
     },
     "output_type": "display_data"
    }
   ],
   "source": [
    "#plot the data\n",
    "\n",
    "figure(figsize=(20,4))\n",
    "plt.plot(years, city_weather, label='Campinas');\n",
    "\n",
    "plt.plot(years, global_weather, label='Global');\n",
    "\n",
    "plt.xlabel('Years');\n",
    "plt.ylabel('Weather');\n",
    "plt.xticks(city_data.query('year % 10 == 0')['year'])\n",
    "plt.title('Comparison between Campinas and Global weather');\n",
    "plt.legend();\n",
    "plt.show();"
   ]
  },
  {
   "cell_type": "code",
   "execution_count": 0,
   "metadata": {
    "colab": {
     "base_uri": "https://localhost:8080/",
     "height": 50
    },
    "colab_type": "code",
    "id": "b4IoM4o-RRI0",
    "outputId": "8931cea3-9556-4ddb-c20f-d8cc5d743e2a"
   },
   "outputs": [
    {
     "name": "stdout",
     "output_type": "stream",
     "text": [
      "Weather mean in Campinas 19.70°\n",
      "Weather mean in World 8.49°\n"
     ]
    }
   ],
   "source": [
    "#mean weather from 1832 until 2013\n",
    "print('Weather mean in Campinas %.2f°' % city_data['avg_temp'].mean())\n",
    "print('Weather mean in World %.2f°' % global_data['avg_temp'].mean())"
   ]
  },
  {
   "cell_type": "markdown",
   "metadata": {
    "colab_type": "text",
    "id": "oxO33oc5FJ_q"
   },
   "source": [
    "We can make some observations from the chart:\n",
    "\n",
    "* Campinas weather is hotter than the average of the world. the mean is around 19,70° in Campinas and 8,49° in the rest of the world.\n",
    "\n",
    "* In the early years, it seems the weather to be cooler than newer days as we can see comparing the years 1840 until 2010 in the chart. The temperature seems to be increasing, not only in the city chosen for this study but in the whole world.\n",
    "\n",
    "* The minimum temperature for Campinas is 18.28° and 5.78° to the world. The maximum is 21.3° and 9.83° respectively."
   ]
  }
 ],
 "metadata": {
  "colab": {
   "collapsed_sections": [],
   "name": "weather_trend.ipynb",
   "provenance": [],
   "version": "0.3.2"
  },
  "kernelspec": {
   "display_name": "Python 3",
   "language": "python",
   "name": "python3"
  },
  "language_info": {
   "codemirror_mode": {
    "name": "ipython",
    "version": 3
   },
   "file_extension": ".py",
   "mimetype": "text/x-python",
   "name": "python",
   "nbconvert_exporter": "python",
   "pygments_lexer": "ipython3",
   "version": "3.7.1"
  }
 },
 "nbformat": 4,
 "nbformat_minor": 1
}
